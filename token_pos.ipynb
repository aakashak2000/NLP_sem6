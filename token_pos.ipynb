{
  "nbformat": 4,
  "nbformat_minor": 0,
  "metadata": {
    "colab": {
      "name": "classwork_2_updated",
      "provenance": [],
      "collapsed_sections": [],
      "include_colab_link": true
    },
    "kernelspec": {
      "name": "python3",
      "display_name": "Python 3"
    },
    "accelerator": "GPU"
  },
  "cells": [
    {
      "cell_type": "markdown",
      "metadata": {
        "id": "view-in-github",
        "colab_type": "text"
      },
      "source": [
        "<a href=\"https://colab.research.google.com/github/aakashak2000/NLP_sem6/blob/master/token_pos.ipynb\" target=\"_parent\"><img src=\"https://colab.research.google.com/assets/colab-badge.svg\" alt=\"Open In Colab\"/></a>"
      ]
    },
    {
      "cell_type": "code",
      "metadata": {
        "id": "np61X1oJeJnO",
        "colab_type": "code",
        "colab": {}
      },
      "source": [
        "import pandas as pd"
      ],
      "execution_count": 0,
      "outputs": []
    },
    {
      "cell_type": "code",
      "metadata": {
        "id": "ya0Wuy05gba1",
        "colab_type": "code",
        "outputId": "7f737ba6-0eb8-4ce6-9830-c2dbc8a1c51c",
        "colab": {
          "base_uri": "https://localhost:8080/",
          "height": 289
        }
      },
      "source": [
        "df = pd.read_json(\"http://snap.stanford.edu/data/amazon/productGraph/categoryFiles/reviews_Office_Products_5.json.gz\", lines=True)\n",
        "df.head()"
      ],
      "execution_count": 2,
      "outputs": [
        {
          "output_type": "execute_result",
          "data": {
            "text/html": [
              "<div>\n",
              "<style scoped>\n",
              "    .dataframe tbody tr th:only-of-type {\n",
              "        vertical-align: middle;\n",
              "    }\n",
              "\n",
              "    .dataframe tbody tr th {\n",
              "        vertical-align: top;\n",
              "    }\n",
              "\n",
              "    .dataframe thead th {\n",
              "        text-align: right;\n",
              "    }\n",
              "</style>\n",
              "<table border=\"1\" class=\"dataframe\">\n",
              "  <thead>\n",
              "    <tr style=\"text-align: right;\">\n",
              "      <th></th>\n",
              "      <th>reviewerID</th>\n",
              "      <th>asin</th>\n",
              "      <th>reviewerName</th>\n",
              "      <th>helpful</th>\n",
              "      <th>reviewText</th>\n",
              "      <th>overall</th>\n",
              "      <th>summary</th>\n",
              "      <th>unixReviewTime</th>\n",
              "      <th>reviewTime</th>\n",
              "    </tr>\n",
              "  </thead>\n",
              "  <tbody>\n",
              "    <tr>\n",
              "      <th>0</th>\n",
              "      <td>A32T2H8150OJLU</td>\n",
              "      <td>B00000JBLH</td>\n",
              "      <td>ARH</td>\n",
              "      <td>[3, 4]</td>\n",
              "      <td>I bought my first HP12C in about 1984 or so, a...</td>\n",
              "      <td>5</td>\n",
              "      <td>A solid performer, and long time friend</td>\n",
              "      <td>1094169600</td>\n",
              "      <td>09 3, 2004</td>\n",
              "    </tr>\n",
              "    <tr>\n",
              "      <th>1</th>\n",
              "      <td>A3MAFS04ZABRGO</td>\n",
              "      <td>B00000JBLH</td>\n",
              "      <td>Let it Be \"Alan\"</td>\n",
              "      <td>[7, 9]</td>\n",
              "      <td>WHY THIS BELATED REVIEW? I feel very obliged t...</td>\n",
              "      <td>5</td>\n",
              "      <td>Price of GOLD is up, so don't bury the golden ...</td>\n",
              "      <td>1197676800</td>\n",
              "      <td>12 15, 2007</td>\n",
              "    </tr>\n",
              "    <tr>\n",
              "      <th>2</th>\n",
              "      <td>A1F1A0QQP2XVH5</td>\n",
              "      <td>B00000JBLH</td>\n",
              "      <td>Mark B</td>\n",
              "      <td>[3, 3]</td>\n",
              "      <td>I have an HP 48GX that has been kicking for mo...</td>\n",
              "      <td>2</td>\n",
              "      <td>Good functionality, but not durable like old HPs</td>\n",
              "      <td>1293840000</td>\n",
              "      <td>01 1, 2011</td>\n",
              "    </tr>\n",
              "    <tr>\n",
              "      <th>3</th>\n",
              "      <td>A49R5DBXXQDE5</td>\n",
              "      <td>B00000JBLH</td>\n",
              "      <td>R. D Johnson</td>\n",
              "      <td>[7, 8]</td>\n",
              "      <td>I've started doing more finance stuff recently...</td>\n",
              "      <td>5</td>\n",
              "      <td>One of the last of an almost extinct species</td>\n",
              "      <td>1145404800</td>\n",
              "      <td>04 19, 2006</td>\n",
              "    </tr>\n",
              "    <tr>\n",
              "      <th>4</th>\n",
              "      <td>A2XRMQA6PJ5ZJ8</td>\n",
              "      <td>B00000JBLH</td>\n",
              "      <td>Roger J. Buffington</td>\n",
              "      <td>[0, 0]</td>\n",
              "      <td>For simple calculations and discounted cash fl...</td>\n",
              "      <td>5</td>\n",
              "      <td>Still the best</td>\n",
              "      <td>1375574400</td>\n",
              "      <td>08 4, 2013</td>\n",
              "    </tr>\n",
              "  </tbody>\n",
              "</table>\n",
              "</div>"
            ],
            "text/plain": [
              "       reviewerID        asin  ... unixReviewTime   reviewTime\n",
              "0  A32T2H8150OJLU  B00000JBLH  ...     1094169600   09 3, 2004\n",
              "1  A3MAFS04ZABRGO  B00000JBLH  ...     1197676800  12 15, 2007\n",
              "2  A1F1A0QQP2XVH5  B00000JBLH  ...     1293840000   01 1, 2011\n",
              "3   A49R5DBXXQDE5  B00000JBLH  ...     1145404800  04 19, 2006\n",
              "4  A2XRMQA6PJ5ZJ8  B00000JBLH  ...     1375574400   08 4, 2013\n",
              "\n",
              "[5 rows x 9 columns]"
            ]
          },
          "metadata": {
            "tags": []
          },
          "execution_count": 2
        }
      ]
    },
    {
      "cell_type": "code",
      "metadata": {
        "id": "wglvxfbud3Ww",
        "colab_type": "code",
        "colab": {}
      },
      "source": [
        "def word_count(str):\n",
        "  count_of_word=dict()\n",
        "  words=str.split()\n",
        "  for word in words:\n",
        "    if word in count_of_word:\n",
        "      count_of_word[word]+=1\n",
        "    else:\n",
        "      count_of_word[word]=1\n",
        "  return count_of_word"
      ],
      "execution_count": 0,
      "outputs": []
    },
    {
      "cell_type": "code",
      "metadata": {
        "id": "sLxT6mJLiNR6",
        "colab_type": "code",
        "colab": {}
      },
      "source": [
        "def letters(string):\n",
        "    vowels = 0\n",
        "    vowels_list = ['a', 'e', 'i', 'o', 'u']\n",
        "    consonants = 0\n",
        "    words = len(string.split())\n",
        "    for i in range(0, len(string)):  \n",
        "            ch = string[i]  \n",
        "            ch = ch.lower()\n",
        "            if (ch >= 'a' and ch <= 'z'):\n",
        "             if ch in vowels_list: \n",
        "                vowels += 1\n",
        "             else: \n",
        "                consonants += 1\n",
        "          \n",
        "    count = {'vowels': vowels, 'consonants': consonants, 'words': words}\n",
        "    return count"
      ],
      "execution_count": 0,
      "outputs": []
    },
    {
      "cell_type": "code",
      "metadata": {
        "id": "t0XrMWkNkK5Y",
        "colab_type": "code",
        "colab": {}
      },
      "source": [
        "df['reviewText_wordcount']=df['reviewText'].apply(word_count)\n",
        "df['summary_wordcount']=df['summary'].apply(word_count)\n",
        "df[\"reviewText_letter_count\"] = df.reviewText.apply(letters)\n",
        "df[\"summary_letter_count\"] = df.summary.apply(letters)"
      ],
      "execution_count": 0,
      "outputs": []
    },
    {
      "cell_type": "code",
      "metadata": {
        "id": "kbVitnE_oaYm",
        "colab_type": "code",
        "colab": {}
      },
      "source": [
        "import re"
      ],
      "execution_count": 0,
      "outputs": []
    },
    {
      "cell_type": "code",
      "metadata": {
        "id": "2vbe8UNesGqb",
        "colab_type": "code",
        "colab": {
          "base_uri": "https://localhost:8080/",
          "height": 34
        },
        "outputId": "e00947f6-bcd2-488c-fb17-11b0a88fff83"
      },
      "source": [
        "def BG(string):\n",
        "    string = re.sub('[^a-zA-Z]',' ', string) #removes punctuations\n",
        "    list1 = re.findall(r\"\\b[Bb]\\w+|\\w+[Gg]\\b\", string)\n",
        "    return list1\n",
        "BG('Bass and treble of aa song and a Bot good goog')"
      ],
      "execution_count": 7,
      "outputs": [
        {
          "output_type": "execute_result",
          "data": {
            "text/plain": [
              "['Bass', 'song', 'Bot', 'goog']"
            ]
          },
          "metadata": {
            "tags": []
          },
          "execution_count": 7
        }
      ]
    },
    {
      "cell_type": "code",
      "metadata": {
        "id": "m4xFnN8lxgjG",
        "colab_type": "code",
        "colab": {}
      },
      "source": [
        "df[\"reviewText_BG\"] = df.reviewText.apply(BG)\n",
        "df[\"summary_BG\"] = df.summary.apply(BG)"
      ],
      "execution_count": 0,
      "outputs": []
    },
    {
      "cell_type": "code",
      "metadata": {
        "id": "F7A86S5XCu-t",
        "colab_type": "code",
        "colab": {
          "base_uri": "https://localhost:8080/",
          "height": 34
        },
        "outputId": "7e2ba1d5-b951-4cb3-c5d0-781434656bf5"
      },
      "source": [
        "def not_BG(string):\n",
        "    string = re.sub('[^a-zA-Z]',' ', string) #removes punctuations\n",
        "    list1 = re.findall(r\"\\b(?![Bb])\\w+(?<![Gg])\\b\", string) #finding words not ending with g/G and words not starting with b/B\n",
        "    return list1\n",
        "not_BG('Bass and treble of aa song and a Bot good goog') #example"
      ],
      "execution_count": 9,
      "outputs": [
        {
          "output_type": "execute_result",
          "data": {
            "text/plain": [
              "['and', 'treble', 'of', 'aa', 'and', 'a', 'good']"
            ]
          },
          "metadata": {
            "tags": []
          },
          "execution_count": 9
        }
      ]
    },
    {
      "cell_type": "code",
      "metadata": {
        "id": "qm5-ZDoeI8RE",
        "colab_type": "code",
        "colab": {}
      },
      "source": [
        "df[\"reviewText_BG\"] = df.reviewText.apply(not_BG)\n",
        "df[\"summary_BG\"] = df.summary.apply(not_BG)"
      ],
      "execution_count": 0,
      "outputs": []
    },
    {
      "cell_type": "code",
      "metadata": {
        "id": "1J_UhzK4qqoh",
        "colab_type": "code",
        "colab": {}
      },
      "source": [
        "from nltk import word_tokenize\n",
        "import nltk\n",
        "from nltk.stem import WordNetLemmatizer\n",
        "from nltk import pos_tag"
      ],
      "execution_count": 0,
      "outputs": []
    },
    {
      "cell_type": "code",
      "metadata": {
        "id": "F4r6ICngJj9o",
        "colab_type": "code",
        "colab": {
          "base_uri": "https://localhost:8080/",
          "height": 119
        },
        "outputId": "88b12866-14c6-4116-cd65-0b59436e20b4"
      },
      "source": [
        "nltk.download('punkt')\n",
        "nltk.download('averaged_perceptron_tagger')"
      ],
      "execution_count": 12,
      "outputs": [
        {
          "output_type": "stream",
          "text": [
            "[nltk_data] Downloading package punkt to /root/nltk_data...\n",
            "[nltk_data]   Unzipping tokenizers/punkt.zip.\n",
            "[nltk_data] Downloading package averaged_perceptron_tagger to\n",
            "[nltk_data]     /root/nltk_data...\n",
            "[nltk_data]   Unzipping taggers/averaged_perceptron_tagger.zip.\n"
          ],
          "name": "stdout"
        },
        {
          "output_type": "execute_result",
          "data": {
            "text/plain": [
              "True"
            ]
          },
          "metadata": {
            "tags": []
          },
          "execution_count": 12
        }
      ]
    },
    {
      "cell_type": "code",
      "metadata": {
        "id": "6rN5AxXm-25h",
        "colab_type": "code",
        "colab": {
          "base_uri": "https://localhost:8080/",
          "height": 238
        },
        "outputId": "6a750742-aaf4-44fa-e34a-fb9bef93a261"
      },
      "source": [
        "def token_pos(sentence):\n",
        "  sentence = re.sub(\"[^a-zA-Z]\",\" \",sentence)\n",
        "  new_dict = {}\n",
        "  tag = pos_tag(sentence.split())\n",
        "  tag_list = list(sum(tag,()))\n",
        "  new_dict = {tag_list[i]: tag_list[i+1] for i in range(0, len(tag_list), 2)}\n",
        "  return new_dict\n",
        "\n",
        "token_pos(\"Aakash has taken the initiative to learn advanced swimming at Ozone Swimmimg Pool.\")"
      ],
      "execution_count": 13,
      "outputs": [
        {
          "output_type": "execute_result",
          "data": {
            "text/plain": [
              "{'Aakash': 'NNP',\n",
              " 'Ozone': 'NNP',\n",
              " 'Pool': 'NNP',\n",
              " 'Swimmimg': 'NNP',\n",
              " 'advanced': 'JJ',\n",
              " 'at': 'IN',\n",
              " 'has': 'VBZ',\n",
              " 'initiative': 'NN',\n",
              " 'learn': 'VB',\n",
              " 'swimming': 'NN',\n",
              " 'taken': 'VBN',\n",
              " 'the': 'DT',\n",
              " 'to': 'TO'}"
            ]
          },
          "metadata": {
            "tags": []
          },
          "execution_count": 13
        }
      ]
    },
    {
      "cell_type": "code",
      "metadata": {
        "id": "i-Q3FY-DWoFZ",
        "colab_type": "code",
        "colab": {
          "base_uri": "https://localhost:8080/",
          "height": 238
        },
        "outputId": "4f30e528-c05c-466b-d975-f076abd402a2"
      },
      "source": [
        "def token_pos2(sentence):\n",
        "  sentence = re.sub(\"[^a-zA-Z]\",\" \",sentence)\n",
        "  new_dict = {}\n",
        "  tags = pos_tag(sentence.split())\n",
        "  new_dict = {(word) : (tag) for word, tag in tags}\n",
        "  return new_dict\n",
        "\n",
        "token_pos(\"Aakash has taken the initiative to learn advanced swimming at Ozone Swimmimg Pool.\")"
      ],
      "execution_count": 14,
      "outputs": [
        {
          "output_type": "execute_result",
          "data": {
            "text/plain": [
              "{'Aakash': 'NNP',\n",
              " 'Ozone': 'NNP',\n",
              " 'Pool': 'NNP',\n",
              " 'Swimmimg': 'NNP',\n",
              " 'advanced': 'JJ',\n",
              " 'at': 'IN',\n",
              " 'has': 'VBZ',\n",
              " 'initiative': 'NN',\n",
              " 'learn': 'VB',\n",
              " 'swimming': 'NN',\n",
              " 'taken': 'VBN',\n",
              " 'the': 'DT',\n",
              " 'to': 'TO'}"
            ]
          },
          "metadata": {
            "tags": []
          },
          "execution_count": 14
        }
      ]
    },
    {
      "cell_type": "code",
      "metadata": {
        "id": "oGN5mI9sJbAy",
        "colab_type": "code",
        "colab": {
          "base_uri": "https://localhost:8080/",
          "height": 34
        },
        "outputId": "2668c851-a6e4-462f-c030-d73a97731f87"
      },
      "source": [
        "def adj(sentence):\n",
        "  sentence = re.sub('[^a-zA-Z]', \" \", sentence)\n",
        "  tag1 = pos_tag(sentence.split())\n",
        "  adj1 = [(word) for word, tag in tag1 if (tag=='JJ')]\n",
        "  return adj1\n",
        "\n",
        "adj(\"Aakash has taken!the initiative to learn advanced swimming at Ozone Swimmimg Pool.\")"
      ],
      "execution_count": 15,
      "outputs": [
        {
          "output_type": "execute_result",
          "data": {
            "text/plain": [
              "['advanced']"
            ]
          },
          "metadata": {
            "tags": []
          },
          "execution_count": 15
        }
      ]
    },
    {
      "cell_type": "code",
      "metadata": {
        "id": "_Qr3rKcxXmLn",
        "colab_type": "code",
        "colab": {
          "base_uri": "https://localhost:8080/",
          "height": 289
        },
        "outputId": "9995162b-e929-43c5-bc82-ac463acc67bc"
      },
      "source": [
        "adj(df['reviewText'][0])"
      ],
      "execution_count": 16,
      "outputs": [
        {
          "output_type": "execute_result",
          "data": {
            "text/plain": [
              "['first',\n",
              " 'difficult',\n",
              " 'many',\n",
              " 'powerful',\n",
              " 'counterintuitive',\n",
              " 'other',\n",
              " 'good',\n",
              " 'solid',\n",
              " 'reliable',\n",
              " 'programmable',\n",
              " 'basic',\n",
              " 'many',\n",
              " 'manual',\n",
              " 'short',\n",
              " 'ready',\n",
              " 'old']"
            ]
          },
          "metadata": {
            "tags": []
          },
          "execution_count": 16
        }
      ]
    },
    {
      "cell_type": "code",
      "metadata": {
        "id": "fhVb1NHTXPX_",
        "colab_type": "code",
        "colab": {}
      },
      "source": [
        "df['adjectives_review_text'] = df['reviewText'].apply(adj)\n",
        "df['adjectives_summary'] = df['summary'].apply(adj)"
      ],
      "execution_count": 0,
      "outputs": []
    },
    {
      "cell_type": "code",
      "metadata": {
        "id": "AGYVEdpu-5U-",
        "colab_type": "code",
        "colab": {}
      },
      "source": [
        "df['tags_review'] = df['reviewText'].apply(token_pos)\n",
        "df['tags_summary'] = df['summary'].apply(token_pos)"
      ],
      "execution_count": 0,
      "outputs": []
    },
    {
      "cell_type": "code",
      "metadata": {
        "id": "1nvkbyGvENdf",
        "colab_type": "code",
        "colab": {
          "base_uri": "https://localhost:8080/",
          "height": 584
        },
        "outputId": "7e4fb180-5cfb-4024-c9bf-ad0c47ea4ff4"
      },
      "source": [
        "df.head()"
      ],
      "execution_count": 19,
      "outputs": [
        {
          "output_type": "execute_result",
          "data": {
            "text/html": [
              "<div>\n",
              "<style scoped>\n",
              "    .dataframe tbody tr th:only-of-type {\n",
              "        vertical-align: middle;\n",
              "    }\n",
              "\n",
              "    .dataframe tbody tr th {\n",
              "        vertical-align: top;\n",
              "    }\n",
              "\n",
              "    .dataframe thead th {\n",
              "        text-align: right;\n",
              "    }\n",
              "</style>\n",
              "<table border=\"1\" class=\"dataframe\">\n",
              "  <thead>\n",
              "    <tr style=\"text-align: right;\">\n",
              "      <th></th>\n",
              "      <th>reviewerID</th>\n",
              "      <th>asin</th>\n",
              "      <th>reviewerName</th>\n",
              "      <th>helpful</th>\n",
              "      <th>reviewText</th>\n",
              "      <th>overall</th>\n",
              "      <th>summary</th>\n",
              "      <th>unixReviewTime</th>\n",
              "      <th>reviewTime</th>\n",
              "      <th>reviewText_wordcount</th>\n",
              "      <th>summary_wordcount</th>\n",
              "      <th>reviewText_letter_count</th>\n",
              "      <th>summary_letter_count</th>\n",
              "      <th>reviewText_BG</th>\n",
              "      <th>summary_BG</th>\n",
              "      <th>adjectives_review_text</th>\n",
              "      <th>adjectives_summary</th>\n",
              "      <th>tags_review</th>\n",
              "      <th>tags_summary</th>\n",
              "    </tr>\n",
              "  </thead>\n",
              "  <tbody>\n",
              "    <tr>\n",
              "      <th>0</th>\n",
              "      <td>A32T2H8150OJLU</td>\n",
              "      <td>B00000JBLH</td>\n",
              "      <td>ARH</td>\n",
              "      <td>[3, 4]</td>\n",
              "      <td>I bought my first HP12C in about 1984 or so, a...</td>\n",
              "      <td>5</td>\n",
              "      <td>A solid performer, and long time friend</td>\n",
              "      <td>1094169600</td>\n",
              "      <td>09 3, 2004</td>\n",
              "      <td>{'I': 7, 'bought': 1, 'my': 4, 'first': 1, 'HP...</td>\n",
              "      <td>{'A': 1, 'solid': 1, 'performer,': 1, 'and': 1...</td>\n",
              "      <td>{'vowels': 279, 'consonants': 437, 'words': 186}</td>\n",
              "      <td>{'vowels': 12, 'consonants': 20, 'words': 7}</td>\n",
              "      <td>[I, my, first, HP, C, in, about, or, so, and, ...</td>\n",
              "      <td>[A, solid, performer, and, time, friend]</td>\n",
              "      <td>[first, difficult, many, powerful, counterintu...</td>\n",
              "      <td>[solid, long]</td>\n",
              "      <td>{'I': 'PRP', 'bought': 'VBD', 'my': 'PRP$', 'f...</td>\n",
              "      <td>{'A': 'DT', 'solid': 'JJ', 'performer': 'NN', ...</td>\n",
              "    </tr>\n",
              "    <tr>\n",
              "      <th>1</th>\n",
              "      <td>A3MAFS04ZABRGO</td>\n",
              "      <td>B00000JBLH</td>\n",
              "      <td>Let it Be \"Alan\"</td>\n",
              "      <td>[7, 9]</td>\n",
              "      <td>WHY THIS BELATED REVIEW? I feel very obliged t...</td>\n",
              "      <td>5</td>\n",
              "      <td>Price of GOLD is up, so don't bury the golden ...</td>\n",
              "      <td>1197676800</td>\n",
              "      <td>12 15, 2007</td>\n",
              "      <td>{'WHY': 1, 'THIS': 2, 'BELATED': 1, 'REVIEW?':...</td>\n",
              "      <td>{'Price': 1, 'of': 1, 'GOLD': 1, 'is': 1, 'up,...</td>\n",
              "      <td>{'vowels': 1504, 'consonants': 2685, 'words': ...</td>\n",
              "      <td>{'vowels': 14, 'consonants': 31, 'words': 13}</td>\n",
              "      <td>[WHY, THIS, REVIEW, I, feel, very, obliged, to...</td>\n",
              "      <td>[Price, of, GOLD, is, up, so, don, t, the, gol...</td>\n",
              "      <td>[old, Oth, satisfied, frank, synonymous, handh...</td>\n",
              "      <td>[don, t, golden]</td>\n",
              "      <td>{'WHY': 'WRB', 'THIS': 'NNP', 'BELATED': 'NNP'...</td>\n",
              "      <td>{'Price': 'NN', 'of': 'IN', 'GOLD': 'NN', 'is'...</td>\n",
              "    </tr>\n",
              "    <tr>\n",
              "      <th>2</th>\n",
              "      <td>A1F1A0QQP2XVH5</td>\n",
              "      <td>B00000JBLH</td>\n",
              "      <td>Mark B</td>\n",
              "      <td>[3, 3]</td>\n",
              "      <td>I have an HP 48GX that has been kicking for mo...</td>\n",
              "      <td>2</td>\n",
              "      <td>Good functionality, but not durable like old HPs</td>\n",
              "      <td>1293840000</td>\n",
              "      <td>01 1, 2011</td>\n",
              "      <td>{'I': 2, 'have': 2, 'an': 2, 'HP': 3, '48GX': ...</td>\n",
              "      <td>{'Good': 1, 'functionality,': 1, 'but': 1, 'no...</td>\n",
              "      <td>{'vowels': 134, 'consonants': 235, 'words': 96}</td>\n",
              "      <td>{'vowels': 15, 'consonants': 25, 'words': 8}</td>\n",
              "      <td>[I, have, an, HP, GX, that, has, for, more, th...</td>\n",
              "      <td>[Good, functionality, not, durable, like, old,...</td>\n",
              "      <td>[old, overall, new, hollow, available, great, ...</td>\n",
              "      <td>[Good, durable, old]</td>\n",
              "      <td>{'I': 'PRP', 'have': 'VBP', 'an': 'DT', 'HP': ...</td>\n",
              "      <td>{'Good': 'JJ', 'functionality': 'NN', 'but': '...</td>\n",
              "    </tr>\n",
              "    <tr>\n",
              "      <th>3</th>\n",
              "      <td>A49R5DBXXQDE5</td>\n",
              "      <td>B00000JBLH</td>\n",
              "      <td>R. D Johnson</td>\n",
              "      <td>[7, 8]</td>\n",
              "      <td>I've started doing more finance stuff recently...</td>\n",
              "      <td>5</td>\n",
              "      <td>One of the last of an almost extinct species</td>\n",
              "      <td>1145404800</td>\n",
              "      <td>04 19, 2006</td>\n",
              "      <td>{'I've': 4, 'started': 1, 'doing': 2, 'more': ...</td>\n",
              "      <td>{'One': 1, 'of': 2, 'the': 1, 'last': 1, 'an':...</td>\n",
              "      <td>{'vowels': 1089, 'consonants': 1775, 'words': ...</td>\n",
              "      <td>{'vowels': 14, 'consonants': 22, 'words': 9}</td>\n",
              "      <td>[I, ve, started, more, finance, stuff, recentl...</td>\n",
              "      <td>[One, of, the, last, of, an, almost, extinct, ...</td>\n",
              "      <td>[good, available, great, long, true, last, gre...</td>\n",
              "      <td>[last, extinct]</td>\n",
              "      <td>{'I': 'PRP', 've': 'VBP', 'started': 'VBD', 'd...</td>\n",
              "      <td>{'One': 'CD', 'of': 'IN', 'the': 'DT', 'last':...</td>\n",
              "    </tr>\n",
              "    <tr>\n",
              "      <th>4</th>\n",
              "      <td>A2XRMQA6PJ5ZJ8</td>\n",
              "      <td>B00000JBLH</td>\n",
              "      <td>Roger J. Buffington</td>\n",
              "      <td>[0, 0]</td>\n",
              "      <td>For simple calculations and discounted cash fl...</td>\n",
              "      <td>5</td>\n",
              "      <td>Still the best</td>\n",
              "      <td>1375574400</td>\n",
              "      <td>08 4, 2013</td>\n",
              "      <td>{'For': 1, 'simple': 1, 'calculations': 2, 'an...</td>\n",
              "      <td>{'Still': 1, 'the': 1, 'best': 1}</td>\n",
              "      <td>{'vowels': 208, 'consonants': 338, 'words': 120}</td>\n",
              "      <td>{'vowels': 3, 'consonants': 9, 'words': 3}</td>\n",
              "      <td>[For, simple, calculations, and, discounted, c...</td>\n",
              "      <td>[Still, the]</td>\n",
              "      <td>[simple, financial, complex, quick, Reverse, P...</td>\n",
              "      <td>[]</td>\n",
              "      <td>{'For': 'IN', 'simple': 'JJ', 'calculations': ...</td>\n",
              "      <td>{'Still': 'RB', 'the': 'DT', 'best': 'JJS'}</td>\n",
              "    </tr>\n",
              "  </tbody>\n",
              "</table>\n",
              "</div>"
            ],
            "text/plain": [
              "       reviewerID  ...                                       tags_summary\n",
              "0  A32T2H8150OJLU  ...  {'A': 'DT', 'solid': 'JJ', 'performer': 'NN', ...\n",
              "1  A3MAFS04ZABRGO  ...  {'Price': 'NN', 'of': 'IN', 'GOLD': 'NN', 'is'...\n",
              "2  A1F1A0QQP2XVH5  ...  {'Good': 'JJ', 'functionality': 'NN', 'but': '...\n",
              "3   A49R5DBXXQDE5  ...  {'One': 'CD', 'of': 'IN', 'the': 'DT', 'last':...\n",
              "4  A2XRMQA6PJ5ZJ8  ...        {'Still': 'RB', 'the': 'DT', 'best': 'JJS'}\n",
              "\n",
              "[5 rows x 19 columns]"
            ]
          },
          "metadata": {
            "tags": []
          },
          "execution_count": 19
        }
      ]
    },
    {
      "cell_type": "code",
      "metadata": {
        "id": "DBba4ykeVhvi",
        "colab_type": "code",
        "colab": {}
      },
      "source": [
        ""
      ],
      "execution_count": 0,
      "outputs": []
    }
  ]
}