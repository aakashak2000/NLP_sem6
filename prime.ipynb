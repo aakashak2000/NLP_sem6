{
  "nbformat": 4,
  "nbformat_minor": 0,
  "metadata": {
    "colab": {
      "name": "prime.ipynb",
      "provenance": [],
      "collapsed_sections": []
    },
    "kernelspec": {
      "name": "python3",
      "display_name": "Python 3"
    }
  },
  "cells": [
    {
      "cell_type": "code",
      "metadata": {
        "id": "MXJoUzimm3R7",
        "colab_type": "code",
        "colab": {}
      },
      "source": [
        "import numpy as np"
      ],
      "execution_count": 0,
      "outputs": []
    },
    {
      "cell_type": "code",
      "metadata": {
        "id": "dQff1Drum5mD",
        "colab_type": "code",
        "colab": {}
      },
      "source": [
        "def prime(n):\n",
        "  temp = 2\n",
        "  while (temp < n**0.5):\n",
        "    if n % temp == 0:\n",
        "      return False\n",
        "    temp += 1\n",
        "  return True"
      ],
      "execution_count": 0,
      "outputs": []
    },
    {
      "cell_type": "code",
      "metadata": {
        "id": "2gisn-scn56R",
        "colab_type": "code",
        "colab": {}
      },
      "source": [
        "def nth_prime(n):\n",
        "  if n == 1:\n",
        "    return 2\n",
        "  count = 1\n",
        "  num = 1\n",
        "  while(count < n):\n",
        "    num += 2\n",
        "    if prime(num) == True:\n",
        "      count += 1\n",
        "  return num"
      ],
      "execution_count": 0,
      "outputs": []
    },
    {
      "cell_type": "code",
      "metadata": {
        "id": "4MAcOHl1oDbl",
        "colab_type": "code",
        "outputId": "9966a012-f677-48ad-ed87-8bdb79307f20",
        "colab": {
          "base_uri": "https://localhost:8080/",
          "height": 510
        }
      },
      "source": [
        "for i in range (1,30):\n",
        "  print (nth_prime(i))"
      ],
      "execution_count": 0,
      "outputs": [
        {
          "output_type": "stream",
          "text": [
            "2\n",
            "3\n",
            "5\n",
            "7\n",
            "9\n",
            "11\n",
            "13\n",
            "17\n",
            "19\n",
            "23\n",
            "25\n",
            "29\n",
            "31\n",
            "37\n",
            "41\n",
            "43\n",
            "47\n",
            "49\n",
            "53\n",
            "59\n",
            "61\n",
            "67\n",
            "71\n",
            "73\n",
            "79\n",
            "83\n",
            "89\n",
            "97\n",
            "101\n"
          ],
          "name": "stdout"
        }
      ]
    },
    {
      "cell_type": "code",
      "metadata": {
        "id": "M4dAeHfMo1wm",
        "colab_type": "code",
        "colab": {}
      },
      "source": [
        ""
      ],
      "execution_count": 0,
      "outputs": []
    }
  ]
}